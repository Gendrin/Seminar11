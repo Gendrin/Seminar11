{
 "cells": [
  {
   "cell_type": "code",
   "execution_count": 4,
   "id": "6e8e7d74",
   "metadata": {},
   "outputs": [
    {
     "name": "stdout",
     "output_type": "stream",
     "text": [
      "Корни первой функции - -18*x**3 + 5*x**2 + 10*x - 30 равны ->\n"
     ]
    }
   ],
   "source": [
    "from sympy import *\n",
    "from sympy.plotting import plot\n",
    "\n",
    "x = Symbol(\"x\")\n",
    "\n",
    "f1 = -18 * x ** 3 + 5 * x ** 2 + 10 * x - 30\n",
    "\n",
    "f2 = 2 * x ** 3 + 2 * x ** 2 - 18 * x - 18\n",
    "\n",
    "f3 = (x ** 2 + 3) / (3 * (x + 1))\n",
    "\n",
    "# 1. Определить корни\n",
    "#    Нули функции\n",
    "\n",
    "solveset(f1, x)\n",
    "solveset(f3, x)\n",
    "\n",
    "print(f'Корни первой функции - {f1} равны ->')"
   ]
  },
  {
   "cell_type": "code",
   "execution_count": 3,
   "id": "27aa8561",
   "metadata": {},
   "outputs": [
    {
     "data": {
      "text/latex": [
       "$\\displaystyle \\left\\{- \\frac{\\sqrt[3]{\\frac{5 \\sqrt{218931}}{108} + \\frac{127045}{5832}}}{3} - \\frac{565}{972 \\sqrt[3]{\\frac{5 \\sqrt{218931}}{108} + \\frac{127045}{5832}}} + \\frac{5}{54}, \\frac{565}{1944 \\sqrt[3]{\\frac{5 \\sqrt{218931}}{108} + \\frac{127045}{5832}}} + \\frac{5}{54} + \\frac{\\sqrt[3]{\\frac{5 \\sqrt{218931}}{108} + \\frac{127045}{5832}}}{6} + i \\left(- \\frac{565 \\sqrt{3}}{1944 \\sqrt[3]{\\frac{5 \\sqrt{218931}}{108} + \\frac{127045}{5832}}} + \\frac{\\sqrt{3} \\sqrt[3]{\\frac{5 \\sqrt{218931}}{108} + \\frac{127045}{5832}}}{6}\\right), \\frac{565}{1944 \\sqrt[3]{\\frac{5 \\sqrt{218931}}{108} + \\frac{127045}{5832}}} + \\frac{5}{54} + \\frac{\\sqrt[3]{\\frac{5 \\sqrt{218931}}{108} + \\frac{127045}{5832}}}{6} + i \\left(- \\frac{\\sqrt{3} \\sqrt[3]{\\frac{5 \\sqrt{218931}}{108} + \\frac{127045}{5832}}}{6} + \\frac{565 \\sqrt{3}}{1944 \\sqrt[3]{\\frac{5 \\sqrt{218931}}{108} + \\frac{127045}{5832}}}\\right)\\right\\}$"
      ],
      "text/plain": [
       "{-(5*sqrt(218931)/108 + 127045/5832)**(1/3)/3 - 565/(972*(5*sqrt(218931)/108 + 127045/5832)**(1/3)) + 5/54, 565/(1944*(5*sqrt(218931)/108 + 127045/5832)**(1/3)) + 5/54 + (5*sqrt(218931)/108 + 127045/5832)**(1/3)/6 + I*(-565*sqrt(3)/(1944*(5*sqrt(218931)/108 + 127045/5832)**(1/3)) + sqrt(3)*(5*sqrt(218931)/108 + 127045/5832)**(1/3)/6), 565/(1944*(5*sqrt(218931)/108 + 127045/5832)**(1/3)) + 5/54 + (5*sqrt(218931)/108 + 127045/5832)**(1/3)/6 + I*(-sqrt(3)*(5*sqrt(218931)/108 + 127045/5832)**(1/3)/6 + 565*sqrt(3)/(1944*(5*sqrt(218931)/108 + 127045/5832)**(1/3)))}"
      ]
     },
     "execution_count": 3,
     "metadata": {},
     "output_type": "execute_result"
    }
   ],
   "source": [
    "solveset(f1, x)"
   ]
  },
  {
   "cell_type": "code",
   "execution_count": 8,
   "id": "eba11b1f",
   "metadata": {},
   "outputs": [
    {
     "name": "stdout",
     "output_type": "stream",
     "text": [
      "Корни второй функции - 2*x**3 + 2*x**2 - 18*x - 18 равны ->\n"
     ]
    },
    {
     "data": {
      "text/latex": [
       "$\\displaystyle \\left\\{-3, -1, 3\\right\\}$"
      ],
      "text/plain": [
       "{-3, -1, 3}"
      ]
     },
     "execution_count": 8,
     "metadata": {},
     "output_type": "execute_result"
    }
   ],
   "source": [
    "print(f'Корни второй функции - {f2} равны ->')\n",
    "solveset(f2, x)"
   ]
  },
  {
   "cell_type": "code",
   "execution_count": 9,
   "id": "869829ec",
   "metadata": {},
   "outputs": [
    {
     "name": "stdout",
     "output_type": "stream",
     "text": [
      "Корни третьей функции - (x**2 + 3)/(3*x + 3) равны ->\n"
     ]
    },
    {
     "data": {
      "text/latex": [
       "$\\displaystyle \\left\\{- \\sqrt{3} i, \\sqrt{3} i\\right\\}$"
      ],
      "text/plain": [
       "{-sqrt(3)*I, sqrt(3)*I}"
      ]
     },
     "execution_count": 9,
     "metadata": {},
     "output_type": "execute_result"
    }
   ],
   "source": [
    "print(f'Корни третьей функции - {f3} равны ->')\n",
    "solveset(f3, x)"
   ]
  },
  {
   "cell_type": "code",
   "execution_count": null,
   "id": "42b598a3",
   "metadata": {},
   "outputs": [],
   "source": []
  },
  {
   "cell_type": "code",
   "execution_count": null,
   "id": "0cd78d6c",
   "metadata": {},
   "outputs": [],
   "source": []
  },
  {
   "cell_type": "code",
   "execution_count": null,
   "id": "fdce7705",
   "metadata": {},
   "outputs": [],
   "source": []
  },
  {
   "cell_type": "code",
   "execution_count": null,
   "id": "6fdb153f",
   "metadata": {},
   "outputs": [],
   "source": []
  }
 ],
 "metadata": {
  "kernelspec": {
   "display_name": "Python 3 (ipykernel)",
   "language": "python",
   "name": "python3"
  },
  "language_info": {
   "codemirror_mode": {
    "name": "ipython",
    "version": 3
   },
   "file_extension": ".py",
   "mimetype": "text/x-python",
   "name": "python",
   "nbconvert_exporter": "python",
   "pygments_lexer": "ipython3",
   "version": "3.9.13"
  }
 },
 "nbformat": 4,
 "nbformat_minor": 5
}
