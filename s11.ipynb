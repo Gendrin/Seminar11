{
 "cells": [
  {
   "cell_type": "code",
   "execution_count": 4,
   "id": "50c93e3b",
   "metadata": {},
   "outputs": [
    {
     "name": "stdout",
     "output_type": "stream",
     "text": [
      "Корни первой функции - -18*x**3 + 5*x**2 + 10*x - 30 равны ->\n"
     ]
    }
   ],
   "source": [
    "from sympy import *\n",
    "from sympy.plotting import plot\n",
    "\n",
    "x = Symbol(\"x\")\n",
    "\n",
    "f1 = -18 * x ** 3 + 5 * x ** 2 + 10 * x - 30\n",
    "\n",
    "f2 = 2 * x ** 3 + 2 * x ** 2 - 18 * x - 18\n",
    "\n",
    "f3 = (x ** 2 + 3) / (3 * (x + 1))\n",
    "\n",
    "# 1. Определить корни\n",
    "#    Нули функции\n",
    "\n",
    "solveset(f1, x)\n",
    "solveset(f3, x)\n",
    "\n",
    "print(f'Корни первой функции - {f1} равны ->')"
   ]
  },
  {
   "cell_type": "code",
   "execution_count": 3,
   "id": "b960e5f3",
   "metadata": {},
   "outputs": [
    {
     "data": {
      "text/latex": [
       "$\\displaystyle \\left\\{- \\frac{\\sqrt[3]{\\frac{5 \\sqrt{218931}}{108} + \\frac{127045}{5832}}}{3} - \\frac{565}{972 \\sqrt[3]{\\frac{5 \\sqrt{218931}}{108} + \\frac{127045}{5832}}} + \\frac{5}{54}, \\frac{565}{1944 \\sqrt[3]{\\frac{5 \\sqrt{218931}}{108} + \\frac{127045}{5832}}} + \\frac{5}{54} + \\frac{\\sqrt[3]{\\frac{5 \\sqrt{218931}}{108} + \\frac{127045}{5832}}}{6} + i \\left(- \\frac{565 \\sqrt{3}}{1944 \\sqrt[3]{\\frac{5 \\sqrt{218931}}{108} + \\frac{127045}{5832}}} + \\frac{\\sqrt{3} \\sqrt[3]{\\frac{5 \\sqrt{218931}}{108} + \\frac{127045}{5832}}}{6}\\right), \\frac{565}{1944 \\sqrt[3]{\\frac{5 \\sqrt{218931}}{108} + \\frac{127045}{5832}}} + \\frac{5}{54} + \\frac{\\sqrt[3]{\\frac{5 \\sqrt{218931}}{108} + \\frac{127045}{5832}}}{6} + i \\left(- \\frac{\\sqrt{3} \\sqrt[3]{\\frac{5 \\sqrt{218931}}{108} + \\frac{127045}{5832}}}{6} + \\frac{565 \\sqrt{3}}{1944 \\sqrt[3]{\\frac{5 \\sqrt{218931}}{108} + \\frac{127045}{5832}}}\\right)\\right\\}$"
      ],
      "text/plain": [
       "{-(5*sqrt(218931)/108 + 127045/5832)**(1/3)/3 - 565/(972*(5*sqrt(218931)/108 + 127045/5832)**(1/3)) + 5/54, 565/(1944*(5*sqrt(218931)/108 + 127045/5832)**(1/3)) + 5/54 + (5*sqrt(218931)/108 + 127045/5832)**(1/3)/6 + I*(-565*sqrt(3)/(1944*(5*sqrt(218931)/108 + 127045/5832)**(1/3)) + sqrt(3)*(5*sqrt(218931)/108 + 127045/5832)**(1/3)/6), 565/(1944*(5*sqrt(218931)/108 + 127045/5832)**(1/3)) + 5/54 + (5*sqrt(218931)/108 + 127045/5832)**(1/3)/6 + I*(-sqrt(3)*(5*sqrt(218931)/108 + 127045/5832)**(1/3)/6 + 565*sqrt(3)/(1944*(5*sqrt(218931)/108 + 127045/5832)**(1/3)))}"
      ]
     },
     "execution_count": 3,
     "metadata": {},
     "output_type": "execute_result"
    }
   ],
   "source": [
    "solveset(f1, x)"
   ]
  },
  {
   "cell_type": "code",
   "execution_count": 8,
   "id": "54cb626a",
   "metadata": {},
   "outputs": [
    {
     "name": "stdout",
     "output_type": "stream",
     "text": [
      "Корни второй функции - 2*x**3 + 2*x**2 - 18*x - 18 равны ->\n"
     ]
    },
    {
     "data": {
      "text/latex": [
       "$\\displaystyle \\left\\{-3, -1, 3\\right\\}$"
      ],
      "text/plain": [
       "{-3, -1, 3}"
      ]
     },
     "execution_count": 8,
     "metadata": {},
     "output_type": "execute_result"
    }
   ],
   "source": [
    "print(f'Корни второй функции - {f2} равны ->')\n",
    "solveset(f2, x)"
   ]
  },
  {
   "cell_type": "code",
   "execution_count": 9,
   "id": "884bbce8",
   "metadata": {},
   "outputs": [
    {
     "name": "stdout",
     "output_type": "stream",
     "text": [
      "Корни третьей функции - (x**2 + 3)/(3*x + 3) равны ->\n"
     ]
    },
    {
     "data": {
      "text/latex": [
       "$\\displaystyle \\left\\{- \\sqrt{3} i, \\sqrt{3} i\\right\\}$"
      ],
      "text/plain": [
       "{-sqrt(3)*I, sqrt(3)*I}"
      ]
     },
     "execution_count": 9,
     "metadata": {},
     "output_type": "execute_result"
    }
   ],
   "source": [
    "print(f'Корни третьей функции - {f3} равны ->')\n",
    "solveset(f3, x)"
   ]
  },
  {
   "cell_type": "code",
   "execution_count": 14,
   "id": "b61860c9",
   "metadata": {},
   "outputs": [],
   "source": [
    "# 2. Найти интервалы, на которых функция возрастает\n",
    "# 3. Найти интервалы, на которых функция убывает\n",
    "\n",
    "f_diff = [-oo, oo] \n",
    "f_diff[1:1] = solve(diff(f1), x)\n",
    "\n",
    "def FindInterval(f_diff,f):\n",
    "\n",
    "    incr_list = []\n",
    "    decr_list = []\n",
    "\n",
    "    for i in range(1, len(f_diff)):\n",
    "        val = is_increasing(f, Interval.open(f_diff[i - 1], f_diff[i]))\n",
    "        if val:\n",
    "            incr_list.append(f\"[{f_diff[i - 1]}, {f_diff[i]}]\")\n",
    "        else:\n",
    "            decr_list.append(f\"[{f_diff[i - 1]}, {f_diff[i]}]\")\n",
    "\n",
    "    print(f\"Функция {f} убывает на интервалах:\", *decr_list, sep=\"\\n\")\n",
    "    print(f\"Фунция {f} возрастает на интервалах:\", *incr_list, sep=\"\\n\")"
   ]
  },
  {
   "cell_type": "code",
   "execution_count": 15,
   "id": "02ee039d",
   "metadata": {},
   "outputs": [
    {
     "name": "stdout",
     "output_type": "stream",
     "text": [
      "Функция -18*x**3 + 5*x**2 + 10*x - 30 убывает на интервалах:\n",
      "[-oo, 5/54 - sqrt(565)/54]\n",
      "[5/54 + sqrt(565)/54, oo]\n",
      "Фунция -18*x**3 + 5*x**2 + 10*x - 30 возрастает на интервалах:\n",
      "[5/54 - sqrt(565)/54, 5/54 + sqrt(565)/54]\n"
     ]
    }
   ],
   "source": [
    "FindInterval(f_diff,f1)"
   ]
  },
  {
   "cell_type": "code",
   "execution_count": 16,
   "id": "4774b92a",
   "metadata": {},
   "outputs": [
    {
     "name": "stdout",
     "output_type": "stream",
     "text": [
      "Функция 2*x**3 + 2*x**2 - 18*x - 18 убывает на интервалах:\n",
      "[-oo, -1/3 + 2*sqrt(7)/3]\n",
      "[-2*sqrt(7)/3 - 1/3, oo]\n",
      "Фунция 2*x**3 + 2*x**2 - 18*x - 18 возрастает на интервалах:\n",
      "[-1/3 + 2*sqrt(7)/3, -2*sqrt(7)/3 - 1/3]\n"
     ]
    }
   ],
   "source": [
    "f_diff = [-oo, oo] \n",
    "f_diff[1:1] = solve(diff(f2), x)\n",
    "FindInterval(f_diff,f2)"
   ]
  },
  {
   "cell_type": "code",
   "execution_count": 17,
   "id": "c05ca5f7",
   "metadata": {},
   "outputs": [
    {
     "name": "stdout",
     "output_type": "stream",
     "text": [
      "Функция (x**2 + 3)/(3*x + 3) убывает на интервалах:\n",
      "[-3, 1]\n",
      "Фунция (x**2 + 3)/(3*x + 3) возрастает на интервалах:\n",
      "[-oo, -3]\n",
      "[1, oo]\n"
     ]
    }
   ],
   "source": [
    "f_diff = [-oo, oo] \n",
    "f_diff[1:1] = solve(diff(f3), x)\n",
    "FindInterval(f_diff,f3)"
   ]
  },
  {
   "cell_type": "code",
   "execution_count": null,
   "id": "9ecfb49d",
   "metadata": {},
   "outputs": [],
   "source": []
  },
  {
   "cell_type": "code",
   "execution_count": null,
   "id": "19d02a34",
   "metadata": {},
   "outputs": [],
   "source": []
  },
  {
   "cell_type": "code",
   "execution_count": null,
   "id": "f842f397",
   "metadata": {},
   "outputs": [],
   "source": []
  },
  {
   "cell_type": "code",
   "execution_count": null,
   "id": "8970db2a",
   "metadata": {},
   "outputs": [],
   "source": []
  },
  {
   "cell_type": "code",
   "execution_count": null,
   "id": "06817120",
   "metadata": {},
   "outputs": [],
   "source": []
  },
  {
   "cell_type": "code",
   "execution_count": null,
   "id": "64631555",
   "metadata": {},
   "outputs": [],
   "source": []
  },
  {
   "cell_type": "code",
   "execution_count": null,
   "id": "ba98a957",
   "metadata": {},
   "outputs": [],
   "source": []
  }
 ],
 "metadata": {
  "kernelspec": {
   "display_name": "Python 3 (ipykernel)",
   "language": "python",
   "name": "python3"
  },
  "language_info": {
   "codemirror_mode": {
    "name": "ipython",
    "version": 3
   },
   "file_extension": ".py",
   "mimetype": "text/x-python",
   "name": "python",
   "nbconvert_exporter": "python",
   "pygments_lexer": "ipython3",
   "version": "3.9.13"
  }
 },
 "nbformat": 4,
 "nbformat_minor": 5
}
